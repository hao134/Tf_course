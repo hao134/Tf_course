{
  "nbformat": 4,
  "nbformat_minor": 0,
  "metadata": {
    "colab": {
      "name": "week4_exercise.ipynb",
      "provenance": []
    },
    "kernelspec": {
      "name": "python3",
      "display_name": "Python 3"
    },
    "accelerator": "GPU"
  },
  "cells": [
    {
      "cell_type": "code",
      "metadata": {
        "id": "Ek-PB3PV4f4_"
      },
      "source": [
        "import csv\n",
        "import numpy as np\n",
        "import tensorflow as tf\n",
        "from tensorflow.keras.preprocessing.image import ImageDataGenerator\n",
        "from google.colab import files"
      ],
      "execution_count": 12,
      "outputs": []
    },
    {
      "cell_type": "code",
      "metadata": {
        "colab": {
          "base_uri": "https://localhost:8080/"
        },
        "id": "7QJCM9Tk_WjS",
        "outputId": "d9070c57-fa0c-42ac-a11f-2161eef8e979"
      },
      "source": [
        "!unzip archive.zip"
      ],
      "execution_count": 13,
      "outputs": [
        {
          "output_type": "stream",
          "text": [
            "Archive:  archive.zip\n",
            "replace __MACOSX/._archive? [y]es, [n]o, [A]ll, [N]one, [r]ename: N\n"
          ],
          "name": "stdout"
        }
      ]
    },
    {
      "cell_type": "code",
      "metadata": {
        "colab": {
          "base_uri": "https://localhost:8080/"
        },
        "id": "tvyrxdB94moi",
        "outputId": "15c3150b-3bbc-4ba8-b795-91f2c2f1833c"
      },
      "source": [
        "def get_data(filename):\n",
        "  with open(filename) as training_file:\n",
        "    csv_reader = csv.reader(training_file, delimiter = ',')\n",
        "    next(csv_reader)\n",
        "    temp_images = []\n",
        "    temp_labels = []\n",
        "    for row in csv_reader:\n",
        "      temp_labels.append(row[0])\n",
        "      image_data = row[1:785]\n",
        "      image_data_as_array = np.array_split(image_data, 28)\n",
        "      temp_images.append(image_data_as_array)\n",
        "\n",
        "    images = np.array(temp_images).astype('float')\n",
        "    labels = np.array(temp_labels).astype('float')\n",
        "  return images, labels\n",
        "\n",
        "training_images, training_labels = get_data('./archive/sign_mnist_train.csv')\n",
        "testing_images, testing_labels = get_data('./archive/sign_mnist_test.csv')\n",
        "\n",
        "print(training_images.shape)\n",
        "print(training_labels.shape)\n",
        "print(testing_images.shape)\n",
        "print(testing_labels.shape)"
      ],
      "execution_count": 14,
      "outputs": [
        {
          "output_type": "stream",
          "text": [
            "(27455, 28, 28)\n",
            "(27455,)\n",
            "(7172, 28, 28)\n",
            "(7172,)\n"
          ],
          "name": "stdout"
        }
      ]
    },
    {
      "cell_type": "code",
      "metadata": {
        "colab": {
          "base_uri": "https://localhost:8080/"
        },
        "id": "Vh342XV5_nuI",
        "outputId": "5e29e1b7-2ffa-4963-baee-416ff28802a2"
      },
      "source": [
        "training_images = np.expand_dims(training_images, axis=3)\n",
        "testing_images = np.expand_dims(testing_images, axis=3)\n",
        "\n",
        "train_datagen = ImageDataGenerator(\n",
        "    rescale=1. / 255,\n",
        "    rotation_range=40,\n",
        "    width_shift_range=0.2,\n",
        "    height_shift_range=0.2,\n",
        "    shear_range=0.2,\n",
        "    zoom_range=0.2,\n",
        "    horizontal_flip=True,\n",
        "    fill_mode='nearest')\n",
        "\n",
        "validation_datagen = ImageDataGenerator(\n",
        "    rescale=1. / 255)\n",
        "\n",
        "print(training_images.shape)\n",
        "print(testing_images.shape)"
      ],
      "execution_count": 4,
      "outputs": [
        {
          "output_type": "stream",
          "text": [
            "(27455, 28, 28, 1)\n",
            "(7172, 28, 28, 1)\n"
          ],
          "name": "stdout"
        }
      ]
    },
    {
      "cell_type": "code",
      "metadata": {
        "colab": {
          "base_uri": "https://localhost:8080/"
        },
        "id": "Z3sh_QnF_1yA",
        "outputId": "495bafc3-5c5d-44aa-da20-fb1bb1061d6a"
      },
      "source": [
        "model = tf.keras.models.Sequential([\n",
        "    tf.keras.layers.Conv2D(64, (3, 3), activation='relu', input_shape=(28, 28, 1)),\n",
        "    tf.keras.layers.MaxPooling2D(2, 2),\n",
        "    tf.keras.layers.Conv2D(64, (3, 3), activation='relu'),\n",
        "    tf.keras.layers.MaxPooling2D(2, 2),\n",
        "    tf.keras.layers.Flatten(),\n",
        "    tf.keras.layers.Dense(128, activation=tf.nn.relu),\n",
        "    tf.keras.layers.Dense(26, activation=tf.nn.softmax)])\n",
        "\n",
        "model.compile(optimizer = tf.optimizers.Adam(),\n",
        "              loss = 'sparse_categorical_crossentropy',\n",
        "              metrics=['accuracy'])\n",
        "\n",
        "history = model.fit(train_datagen.flow(training_images, training_labels, batch_size=32),\n",
        "                              steps_per_epoch=len(training_images) / 32,\n",
        "                              epochs=15,\n",
        "                              validation_data=validation_datagen.flow(testing_images, testing_labels, batch_size=32),\n",
        "                              validation_steps=len(testing_images) / 32)\n",
        "\n",
        "model.evaluate(testing_images, testing_labels)\n"
      ],
      "execution_count": 5,
      "outputs": [
        {
          "output_type": "stream",
          "text": [
            "Epoch 1/15\n",
            "857/857 [==============================] - 17s 11ms/step - loss: 2.9694 - accuracy: 0.1109 - val_loss: 1.6818 - val_accuracy: 0.4272\n",
            "Epoch 2/15\n",
            "857/857 [==============================] - 10s 11ms/step - loss: 2.0445 - accuracy: 0.3568 - val_loss: 1.1265 - val_accuracy: 0.6093\n",
            "Epoch 3/15\n",
            "857/857 [==============================] - 10s 11ms/step - loss: 1.5992 - accuracy: 0.4865 - val_loss: 0.8621 - val_accuracy: 0.6928\n",
            "Epoch 4/15\n",
            "857/857 [==============================] - 9s 11ms/step - loss: 1.3845 - accuracy: 0.5522 - val_loss: 0.7503 - val_accuracy: 0.7119\n",
            "Epoch 5/15\n",
            "857/857 [==============================] - 10s 11ms/step - loss: 1.1823 - accuracy: 0.6158 - val_loss: 0.6480 - val_accuracy: 0.7942\n",
            "Epoch 6/15\n",
            "857/857 [==============================] - 9s 11ms/step - loss: 1.0702 - accuracy: 0.6422 - val_loss: 0.5162 - val_accuracy: 0.8334\n",
            "Epoch 7/15\n",
            "857/857 [==============================] - 9s 11ms/step - loss: 0.9469 - accuracy: 0.6860 - val_loss: 0.4713 - val_accuracy: 0.8353\n",
            "Epoch 8/15\n",
            "857/857 [==============================] - 10s 11ms/step - loss: 0.8637 - accuracy: 0.7116 - val_loss: 0.4283 - val_accuracy: 0.8561\n",
            "Epoch 9/15\n",
            "857/857 [==============================] - 9s 11ms/step - loss: 0.8068 - accuracy: 0.7325 - val_loss: 0.4289 - val_accuracy: 0.8482\n",
            "Epoch 10/15\n",
            "857/857 [==============================] - 9s 11ms/step - loss: 0.7686 - accuracy: 0.7415 - val_loss: 0.3310 - val_accuracy: 0.8839\n",
            "Epoch 11/15\n",
            "857/857 [==============================] - 9s 11ms/step - loss: 0.7044 - accuracy: 0.7645 - val_loss: 0.3855 - val_accuracy: 0.8656\n",
            "Epoch 12/15\n",
            "857/857 [==============================] - 10s 11ms/step - loss: 0.6604 - accuracy: 0.7767 - val_loss: 0.3242 - val_accuracy: 0.8887\n",
            "Epoch 13/15\n",
            "857/857 [==============================] - 9s 11ms/step - loss: 0.6288 - accuracy: 0.7908 - val_loss: 0.3052 - val_accuracy: 0.8982\n",
            "Epoch 14/15\n",
            "857/857 [==============================] - 9s 11ms/step - loss: 0.5955 - accuracy: 0.8023 - val_loss: 0.2855 - val_accuracy: 0.9003\n",
            "Epoch 15/15\n",
            "857/857 [==============================] - 10s 11ms/step - loss: 0.5717 - accuracy: 0.8061 - val_loss: 0.3061 - val_accuracy: 0.9002\n",
            "225/225 [==============================] - 1s 2ms/step - loss: 159.9116 - accuracy: 0.6945\n"
          ],
          "name": "stdout"
        },
        {
          "output_type": "execute_result",
          "data": {
            "text/plain": [
              "[159.91159057617188, 0.6945064067840576]"
            ]
          },
          "metadata": {
            "tags": []
          },
          "execution_count": 5
        }
      ]
    },
    {
      "cell_type": "code",
      "metadata": {
        "colab": {
          "base_uri": "https://localhost:8080/",
          "height": 545
        },
        "id": "tqJOaDVa_4G_",
        "outputId": "ac7b516c-4b8c-4b7d-a405-fd8d7d8cebcb"
      },
      "source": [
        "import matplotlib.pyplot as plt\n",
        "acc = history.history['accuracy']\n",
        "val_acc = history.history['val_accuracy']\n",
        "loss = history.history['loss']\n",
        "val_loss = history.history['val_loss']\n",
        "\n",
        "epochs = range(len(acc))\n",
        "\n",
        "plt.plot(epochs, acc, 'r', label='Training accuracy')\n",
        "plt.plot(epochs, val_acc, 'b', label='Validation accuracy')\n",
        "plt.title('Training and validation accuracy')\n",
        "plt.legend()\n",
        "plt.figure()\n",
        "\n",
        "plt.plot(epochs, loss, 'r', label='Training Loss')\n",
        "plt.plot(epochs, val_loss, 'b', label='Validation Loss')\n",
        "plt.title('Training and validation loss')\n",
        "plt.legend()\n",
        "\n",
        "plt.show()\n"
      ],
      "execution_count": 6,
      "outputs": [
        {
          "output_type": "display_data",
          "data": {
            "image/png": "[encoded data removed]",
            "text/plain": [
              "<Figure size 432x288 with 1 Axes>"
            ]
          },
          "metadata": {
            "tags": [],
            "needs_background": "light"
          }
        },
        {
          "output_type": "display_data",
          "data": {
            "image/png": "[encoded data removed]",
            "text/plain": [
              "<Figure size 432x288 with 1 Axes>"
            ]
          },
          "metadata": {
            "tags": [],
            "needs_background": "light"
          }
        }
      ]
    },
    {
      "cell_type": "code",
      "metadata": {
        "colab": {
          "base_uri": "https://localhost:8080/"
        },
        "id": "B0W8CLOy_6b8",
        "outputId": "d7f0eea8-dd84-43e5-c599-bf79210950b3"
      },
      "source": [
        "!nvidia-smi"
      ],
      "execution_count": 7,
      "outputs": [
        {
          "output_type": "stream",
          "text": [
            "Wed Feb 24 12:27:11 2021       \n",
            "+-----------------------------------------------------------------------------+\n",
            "| NVIDIA-SMI 460.39       Driver Version: 460.32.03    CUDA Version: 11.2     |\n",
            "|-------------------------------+----------------------+----------------------+\n",
            "| GPU  Name        Persistence-M| Bus-Id        Disp.A | Volatile Uncorr. ECC |\n",
            "| Fan  Temp  Perf  Pwr:Usage/Cap|         Memory-Usage | GPU-Util  Compute M. |\n",
            "|                               |                      |               MIG M. |\n",
            "|===============================+======================+======================|\n",
            "|   0  Tesla T4            Off  | 00000000:00:04.0 Off |                    0 |\n",
            "| N/A   54C    P0    29W /  70W |    754MiB / 15109MiB |      0%      Default |\n",
            "|                               |                      |                  N/A |\n",
            "+-------------------------------+----------------------+----------------------+\n",
            "                                                                               \n",
            "+-----------------------------------------------------------------------------+\n",
            "| Processes:                                                                  |\n",
            "|  GPU   GI   CI        PID   Type   Process name                  GPU Memory |\n",
            "|        ID   ID                                                   Usage      |\n",
            "|=============================================================================|\n",
            "+-----------------------------------------------------------------------------+\n"
          ],
          "name": "stdout"
        }
      ]
    },
    {
      "cell_type": "code",
      "metadata": {
        "colab": {
          "base_uri": "https://localhost:8080/"
        },
        "id": "tYQFAEml_85m",
        "outputId": "e51f2f40-6954-4d11-f872-c26c616cdce4"
      },
      "source": [
        "!git clone https://github.com/hao134/ImageModelZoo.git"
      ],
      "execution_count": 20,
      "outputs": [
        {
          "output_type": "stream",
          "text": [
            "Cloning into 'ImageModelZoo'...\n",
            "remote: Enumerating objects: 107, done.\u001b[K\n",
            "remote: Counting objects: 100% (107/107), done.\u001b[K\n",
            "remote: Compressing objects: 100% (68/68), done.\u001b[K\n",
            "remote: Total 107 (delta 61), reused 82 (delta 37), pack-reused 0\u001b[K\n",
            "Receiving objects: 100% (107/107), 5.74 MiB | 9.66 MiB/s, done.\n",
            "Resolving deltas: 100% (61/61), done.\n"
          ],
          "name": "stdout"
        }
      ]
    },
    {
      "cell_type": "code",
      "metadata": {
        "colab": {
          "base_uri": "https://localhost:8080/"
        },
        "id": "N9RKvhNgFOhf",
        "outputId": "746352f1-d482-4796-ca5a-4e5cc12a3884"
      },
      "source": [
        "cd ./ImageModelZoo/models"
      ],
      "execution_count": 23,
      "outputs": [
        {
          "output_type": "stream",
          "text": [
            "/content/ImageModelZoo/models\n"
          ],
          "name": "stdout"
        }
      ]
    },
    {
      "cell_type": "code",
      "metadata": {
        "colab": {
          "base_uri": "https://localhost:8080/"
        },
        "id": "BcDFq8g8FQvK",
        "outputId": "3b81e888-5121-4267-c843-db3ea76d4f4f"
      },
      "source": [
        "ls"
      ],
      "execution_count": 24,
      "outputs": [
        {
          "output_type": "stream",
          "text": [
            "DenseNet.md     MobileNetV1.py  model.png  VGG.md          XceptionNet.py\n",
            "DenseNet.py     MobileNetV2.md  ResNet.md  VGG.py\n",
            "MobileNetV1.md  MobileNetV2.py  ResNet.py  XceptionNet.md\n"
          ],
          "name": "stdout"
        }
      ]
    },
    {
      "cell_type": "code",
      "metadata": {
        "id": "NSXttqG7FC7Z"
      },
      "source": [
        "import VGG"
      ],
      "execution_count": 25,
      "outputs": []
    },
    {
      "cell_type": "code",
      "metadata": {
        "colab": {
          "base_uri": "https://localhost:8080/"
        },
        "id": "BX3oev5cFWp_",
        "outputId": "f357f9f5-db16-414f-eed0-84e1d7807011"
      },
      "source": [
        "model = VGG.vgg16(input_shape = (28,28,1), n_classes = 26, alpha = 0.5, n_downsampling = 3, last_dense_units = 128)"
      ],
      "execution_count": 31,
      "outputs": [
        {
          "output_type": "stream",
          "text": [
            "Model: \"model_7\"\n",
            "_________________________________________________________________\n",
            "Layer (type)                 Output Shape              Param #   \n",
            "=================================================================\n",
            "input_4 (InputLayer)         [(None, 28, 28, 1)]       0         \n",
            "_________________________________________________________________\n",
            "conv2d_203 (Conv2D)          (None, 28, 28, 32)        320       \n",
            "_________________________________________________________________\n",
            "batch_normalization_201 (Bat (None, 28, 28, 32)        128       \n",
            "_________________________________________________________________\n",
            "re_lu_13 (ReLU)              (None, 28, 28, 32)        0         \n",
            "_________________________________________________________________\n",
            "conv2d_204 (Conv2D)          (None, 28, 28, 32)        9248      \n",
            "_________________________________________________________________\n",
            "batch_normalization_202 (Bat (None, 28, 28, 32)        128       \n",
            "_________________________________________________________________\n",
            "re_lu_14 (ReLU)              (None, 28, 28, 32)        0         \n",
            "_________________________________________________________________\n",
            "conv2d_205 (Conv2D)          (None, 28, 28, 64)        18496     \n",
            "_________________________________________________________________\n",
            "batch_normalization_203 (Bat (None, 28, 28, 64)        256       \n",
            "_________________________________________________________________\n",
            "re_lu_15 (ReLU)              (None, 28, 28, 64)        0         \n",
            "_________________________________________________________________\n",
            "conv2d_206 (Conv2D)          (None, 28, 28, 64)        36928     \n",
            "_________________________________________________________________\n",
            "batch_normalization_204 (Bat (None, 28, 28, 64)        256       \n",
            "_________________________________________________________________\n",
            "re_lu_16 (ReLU)              (None, 28, 28, 64)        0         \n",
            "_________________________________________________________________\n",
            "conv2d_207 (Conv2D)          (None, 28, 28, 128)       73856     \n",
            "_________________________________________________________________\n",
            "batch_normalization_205 (Bat (None, 28, 28, 128)       512       \n",
            "_________________________________________________________________\n",
            "re_lu_17 (ReLU)              (None, 28, 28, 128)       0         \n",
            "_________________________________________________________________\n",
            "conv2d_208 (Conv2D)          (None, 28, 28, 128)       147584    \n",
            "_________________________________________________________________\n",
            "batch_normalization_206 (Bat (None, 28, 28, 128)       512       \n",
            "_________________________________________________________________\n",
            "re_lu_18 (ReLU)              (None, 28, 28, 128)       0         \n",
            "_________________________________________________________________\n",
            "conv2d_209 (Conv2D)          (None, 28, 28, 128)       147584    \n",
            "_________________________________________________________________\n",
            "batch_normalization_207 (Bat (None, 28, 28, 128)       512       \n",
            "_________________________________________________________________\n",
            "re_lu_19 (ReLU)              (None, 28, 28, 128)       0         \n",
            "_________________________________________________________________\n",
            "max_pooling2d_13 (MaxPooling (None, 14, 14, 128)       0         \n",
            "_________________________________________________________________\n",
            "conv2d_210 (Conv2D)          (None, 14, 14, 256)       295168    \n",
            "_________________________________________________________________\n",
            "batch_normalization_208 (Bat (None, 14, 14, 256)       1024      \n",
            "_________________________________________________________________\n",
            "re_lu_20 (ReLU)              (None, 14, 14, 256)       0         \n",
            "_________________________________________________________________\n",
            "conv2d_211 (Conv2D)          (None, 14, 14, 256)       590080    \n",
            "_________________________________________________________________\n",
            "batch_normalization_209 (Bat (None, 14, 14, 256)       1024      \n",
            "_________________________________________________________________\n",
            "re_lu_21 (ReLU)              (None, 14, 14, 256)       0         \n",
            "_________________________________________________________________\n",
            "conv2d_212 (Conv2D)          (None, 14, 14, 256)       590080    \n",
            "_________________________________________________________________\n",
            "batch_normalization_210 (Bat (None, 14, 14, 256)       1024      \n",
            "_________________________________________________________________\n",
            "re_lu_22 (ReLU)              (None, 14, 14, 256)       0         \n",
            "_________________________________________________________________\n",
            "max_pooling2d_14 (MaxPooling (None, 7, 7, 256)         0         \n",
            "_________________________________________________________________\n",
            "conv2d_213 (Conv2D)          (None, 7, 7, 256)         590080    \n",
            "_________________________________________________________________\n",
            "batch_normalization_211 (Bat (None, 7, 7, 256)         1024      \n",
            "_________________________________________________________________\n",
            "re_lu_23 (ReLU)              (None, 7, 7, 256)         0         \n",
            "_________________________________________________________________\n",
            "conv2d_214 (Conv2D)          (None, 7, 7, 256)         590080    \n",
            "_________________________________________________________________\n",
            "batch_normalization_212 (Bat (None, 7, 7, 256)         1024      \n",
            "_________________________________________________________________\n",
            "re_lu_24 (ReLU)              (None, 7, 7, 256)         0         \n",
            "_________________________________________________________________\n",
            "conv2d_215 (Conv2D)          (None, 7, 7, 256)         590080    \n",
            "_________________________________________________________________\n",
            "batch_normalization_213 (Bat (None, 7, 7, 256)         1024      \n",
            "_________________________________________________________________\n",
            "re_lu_25 (ReLU)              (None, 7, 7, 256)         0         \n",
            "_________________________________________________________________\n",
            "max_pooling2d_15 (MaxPooling (None, 4, 4, 256)         0         \n",
            "_________________________________________________________________\n",
            "flatten_8 (Flatten)          (None, 4096)              0         \n",
            "_________________________________________________________________\n",
            "dense_17 (Dense)             (None, 128)               524416    \n",
            "_________________________________________________________________\n",
            "dense_18 (Dense)             (None, 128)               16512     \n",
            "_________________________________________________________________\n",
            "dense_19 (Dense)             (None, 26)                3354      \n",
            "=================================================================\n",
            "Total params: 4,232,314\n",
            "Trainable params: 4,228,090\n",
            "Non-trainable params: 4,224\n",
            "_________________________________________________________________\n",
            "None\n"
          ],
          "name": "stdout"
        }
      ]
    },
    {
      "cell_type": "code",
      "metadata": {
        "colab": {
          "base_uri": "https://localhost:8080/"
        },
        "id": "JDBJHZSSByQA",
        "outputId": "4a2b3e11-aa48-43b7-e959-ead287e0e057"
      },
      "source": [
        "# training_images = np.expand_dims(training_images, axis=3)\n",
        "# testing_images = np.expand_dims(testing_images, axis=3)\n",
        "\n",
        "train_datagen = ImageDataGenerator(\n",
        "    rescale=1. / 255,\n",
        "    rotation_range=40,\n",
        "    width_shift_range=0.2,\n",
        "    height_shift_range=0.2,\n",
        "    shear_range=0.2,\n",
        "    zoom_range=0.2,\n",
        "    horizontal_flip=True,\n",
        "    fill_mode='nearest')\n",
        "\n",
        "validation_datagen = ImageDataGenerator(\n",
        "    rescale=1. / 255)\n",
        "\n",
        "print(training_images.shape)\n",
        "print(testing_images.shape)\n",
        "\n",
        "from tensorflow.keras.optimizers import RMSprop\n",
        "\n",
        "# # Flatten the output layer to 1 dimension\n",
        "# x = layers.Flatten()(last_output)\n",
        "# # Add a fully connected layer with 1,024 hidden units and ReLU activation\n",
        "# x = layers.Dense(1024, activation='relu')(x)\n",
        "# # Add a dropout rate of 0.2\n",
        "# x = layers.Dropout(0.2)(x)                  \n",
        "# # Add a final sigmoid layer for classification\n",
        "# x = layers.Dense  (26, activation='softmax')(x)           \n",
        "\n",
        "# model = Model( pre_trained_model.input, x) \n",
        "\n",
        "model.compile(optimizer = tf.optimizers.Adam(),\n",
        "              loss = 'sparse_categorical_crossentropy',\n",
        "              metrics=['accuracy'])\n",
        "\n",
        "history = model.fit(train_datagen.flow(training_images, training_labels, batch_size=32),\n",
        "                              steps_per_epoch=len(training_images) / 32,\n",
        "                              epochs=15,\n",
        "                              validation_data=validation_datagen.flow(testing_images, testing_labels, batch_size=32),\n",
        "                              validation_steps=len(testing_images) / 32)\n",
        "\n",
        "model.evaluate(testing_images, testing_labels)\n"
      ],
      "execution_count": 33,
      "outputs": [
        {
          "output_type": "stream",
          "text": [
            "(27455, 28, 28, 1)\n",
            "(7172, 28, 28, 1)\n",
            "Epoch 1/15\n",
            "857/857 [==============================] - 33s 36ms/step - loss: 3.0993 - accuracy: 0.1171 - val_loss: 2.1386 - val_accuracy: 0.3291\n",
            "Epoch 2/15\n",
            "857/857 [==============================] - 30s 35ms/step - loss: 1.5360 - accuracy: 0.5219 - val_loss: 1.0707 - val_accuracy: 0.6744\n",
            "Epoch 3/15\n",
            "857/857 [==============================] - 30s 35ms/step - loss: 0.9232 - accuracy: 0.7493 - val_loss: 0.5748 - val_accuracy: 0.8749\n",
            "Epoch 4/15\n",
            "857/857 [==============================] - 30s 35ms/step - loss: 0.6963 - accuracy: 0.8367 - val_loss: 0.7537 - val_accuracy: 0.8164\n",
            "Epoch 5/15\n",
            "857/857 [==============================] - 30s 35ms/step - loss: 0.5720 - accuracy: 0.8902 - val_loss: 0.5393 - val_accuracy: 0.8967\n",
            "Epoch 6/15\n",
            "857/857 [==============================] - 30s 35ms/step - loss: 0.4964 - accuracy: 0.9177 - val_loss: 0.3824 - val_accuracy: 0.9632\n",
            "Epoch 7/15\n",
            "857/857 [==============================] - 30s 35ms/step - loss: 0.4700 - accuracy: 0.9324 - val_loss: 0.4386 - val_accuracy: 0.9366\n",
            "Epoch 8/15\n",
            "857/857 [==============================] - 30s 35ms/step - loss: 0.4490 - accuracy: 0.9413 - val_loss: 0.3334 - val_accuracy: 0.9822\n",
            "Epoch 9/15\n",
            "857/857 [==============================] - 30s 35ms/step - loss: 0.4227 - accuracy: 0.9492 - val_loss: 0.3134 - val_accuracy: 0.9891\n",
            "Epoch 10/15\n",
            "857/857 [==============================] - 30s 35ms/step - loss: 0.4176 - accuracy: 0.9497 - val_loss: 0.4368 - val_accuracy: 0.9442\n",
            "Epoch 11/15\n",
            "857/857 [==============================] - 30s 35ms/step - loss: 0.4178 - accuracy: 0.9514 - val_loss: 0.5923 - val_accuracy: 0.8951\n",
            "Epoch 12/15\n",
            "857/857 [==============================] - 30s 35ms/step - loss: 0.3764 - accuracy: 0.9618 - val_loss: 0.5443 - val_accuracy: 0.9087\n",
            "Epoch 13/15\n",
            "857/857 [==============================] - 30s 35ms/step - loss: 0.3917 - accuracy: 0.9552 - val_loss: 0.3249 - val_accuracy: 0.9798\n",
            "Epoch 14/15\n",
            "857/857 [==============================] - 30s 35ms/step - loss: 0.3687 - accuracy: 0.9627 - val_loss: 0.3863 - val_accuracy: 0.9572\n",
            "Epoch 15/15\n",
            "857/857 [==============================] - 30s 35ms/step - loss: 0.3579 - accuracy: 0.9663 - val_loss: 0.3383 - val_accuracy: 0.9693\n",
            "225/225 [==============================] - 3s 11ms/step - loss: 281.8676 - accuracy: 0.1046\n"
          ],
          "name": "stdout"
        },
        {
          "output_type": "execute_result",
          "data": {
            "text/plain": [
              "[281.8675842285156, 0.1045733392238617]"
            ]
          },
          "metadata": {
            "tags": []
          },
          "execution_count": 33
        }
      ]
    },
    {
      "cell_type": "code",
      "metadata": {
        "colab": {
          "base_uri": "https://localhost:8080/",
          "height": 545
        },
        "id": "4w39eHdPB1xf",
        "outputId": "b63e71a5-593f-496d-e263-6ef50573ec80"
      },
      "source": [
        "import matplotlib.pyplot as plt\n",
        "acc = history.history['accuracy']\n",
        "val_acc = history.history['val_accuracy']\n",
        "loss = history.history['loss']\n",
        "val_loss = history.history['val_loss']\n",
        "\n",
        "epochs = range(len(acc))\n",
        "\n",
        "plt.plot(epochs, acc, 'r', label='Training accuracy')\n",
        "plt.plot(epochs, val_acc, 'b', label='Validation accuracy')\n",
        "plt.title('Training and validation accuracy')\n",
        "plt.legend()\n",
        "plt.figure()\n",
        "\n",
        "plt.plot(epochs, loss, 'r', label='Training Loss')\n",
        "plt.plot(epochs, val_loss, 'b', label='Validation Loss')\n",
        "plt.title('Training and validation loss')\n",
        "plt.legend()\n",
        "\n",
        "plt.show()"
      ],
      "execution_count": 34,
      "outputs": [
        {
          "output_type": "display_data",
          "data": {
            "image/png": "[encoded data removed]",
            "text/plain": [
              "<Figure size 432x288 with 1 Axes>"
            ]
          },
          "metadata": {
            "tags": [],
            "needs_background": "light"
          }
        },
        {
          "output_type": "display_data",
          "data": {
            "image/png": "[encoded data removed]",
            "text/plain": [
              "<Figure size 432x288 with 1 Axes>"
            ]
          },
          "metadata": {
            "tags": [],
            "needs_background": "light"
          }
        }
      ]
    },
    {
      "cell_type": "code",
      "metadata": {
        "colab": {
          "base_uri": "https://localhost:8080/"
        },
        "id": "o1Xjh7lUJDmf",
        "outputId": "4832a38a-99de-45cd-8b43-c30541aa5eb4"
      },
      "source": [
        "ls"
      ],
      "execution_count": 39,
      "outputs": [
        {
          "output_type": "stream",
          "text": [
            "DenseNet.md     MobileNetV1.py  model.png     ResNet.py  XceptionNet.md\n",
            "DenseNet.py     MobileNetV2.md  \u001b[0m\u001b[01;34m__pycache__\u001b[0m/  VGG.md     XceptionNet.py\n",
            "MobileNetV1.md  MobileNetV2.py  ResNet.md     VGG.py\n"
          ],
          "name": "stdout"
        }
      ]
    },
    {
      "cell_type": "code",
      "metadata": {
        "id": "qYxDw30wGw9_"
      },
      "source": [
        "import ResNet"
      ],
      "execution_count": 40,
      "outputs": []
    },
    {
      "cell_type": "code",
      "metadata": {
        "id": "9hbdebs1IPB4"
      },
      "source": [
        "model = ResNet.ResNet(input_shape = (28,28,1), n_classes = 26, first_layer_kernel = 3,\n",
        "        first_layer_downsampling = False, first_pooling = None, \n",
        "        bottleneck = False, l2_weight = 1e-4)"
      ],
      "execution_count": 42,
      "outputs": []
    },
    {
      "cell_type": "code",
      "metadata": {
        "colab": {
          "base_uri": "https://localhost:8080/"
        },
        "id": "9zJBd_0VIWJK",
        "outputId": "0c23c32d-eaa3-40c8-c53b-00ab4d9fd27f"
      },
      "source": [
        "model.summary()"
      ],
      "execution_count": 44,
      "outputs": [
        {
          "output_type": "stream",
          "text": [
            "Model: \"model_8\"\n",
            "__________________________________________________________________________________________________\n",
            "Layer (type)                    Output Shape         Param #     Connected to                     \n",
            "==================================================================================================\n",
            "input_5 (InputLayer)            [(None, 28, 28, 1)]  0                                            \n",
            "__________________________________________________________________________________________________\n",
            "conv2d_216 (Conv2D)             (None, 28, 28, 256)  2560        input_5[0][0]                    \n",
            "__________________________________________________________________________________________________\n",
            "batch_normalization_214 (BatchN (None, 28, 28, 256)  1024        conv2d_216[0][0]                 \n",
            "__________________________________________________________________________________________________\n",
            "re_lu_26 (ReLU)                 (None, 28, 28, 256)  0           batch_normalization_214[0][0]    \n",
            "__________________________________________________________________________________________________\n",
            "conv2d_217 (Conv2D)             (None, 28, 28, 256)  590080      re_lu_26[0][0]                   \n",
            "__________________________________________________________________________________________________\n",
            "batch_normalization_215 (BatchN (None, 28, 28, 256)  1024        conv2d_217[0][0]                 \n",
            "__________________________________________________________________________________________________\n",
            "re_lu_27 (ReLU)                 (None, 28, 28, 256)  0           batch_normalization_215[0][0]    \n",
            "__________________________________________________________________________________________________\n",
            "conv2d_218 (Conv2D)             (None, 28, 28, 256)  590080      re_lu_27[0][0]                   \n",
            "__________________________________________________________________________________________________\n",
            "batch_normalization_216 (BatchN (None, 28, 28, 256)  1024        conv2d_218[0][0]                 \n",
            "__________________________________________________________________________________________________\n",
            "add (Add)                       (None, 28, 28, 256)  0           batch_normalization_216[0][0]    \n",
            "                                                                 re_lu_26[0][0]                   \n",
            "__________________________________________________________________________________________________\n",
            "re_lu_28 (ReLU)                 (None, 28, 28, 256)  0           add[0][0]                        \n",
            "__________________________________________________________________________________________________\n",
            "conv2d_219 (Conv2D)             (None, 28, 28, 256)  590080      re_lu_28[0][0]                   \n",
            "__________________________________________________________________________________________________\n",
            "batch_normalization_217 (BatchN (None, 28, 28, 256)  1024        conv2d_219[0][0]                 \n",
            "__________________________________________________________________________________________________\n",
            "re_lu_29 (ReLU)                 (None, 28, 28, 256)  0           batch_normalization_217[0][0]    \n",
            "__________________________________________________________________________________________________\n",
            "conv2d_220 (Conv2D)             (None, 28, 28, 256)  590080      re_lu_29[0][0]                   \n",
            "__________________________________________________________________________________________________\n",
            "batch_normalization_218 (BatchN (None, 28, 28, 256)  1024        conv2d_220[0][0]                 \n",
            "__________________________________________________________________________________________________\n",
            "add_1 (Add)                     (None, 28, 28, 256)  0           batch_normalization_218[0][0]    \n",
            "                                                                 re_lu_28[0][0]                   \n",
            "__________________________________________________________________________________________________\n",
            "re_lu_30 (ReLU)                 (None, 28, 28, 256)  0           add_1[0][0]                      \n",
            "__________________________________________________________________________________________________\n",
            "conv2d_221 (Conv2D)             (None, 28, 28, 256)  590080      re_lu_30[0][0]                   \n",
            "__________________________________________________________________________________________________\n",
            "batch_normalization_219 (BatchN (None, 28, 28, 256)  1024        conv2d_221[0][0]                 \n",
            "__________________________________________________________________________________________________\n",
            "re_lu_31 (ReLU)                 (None, 28, 28, 256)  0           batch_normalization_219[0][0]    \n",
            "__________________________________________________________________________________________________\n",
            "conv2d_222 (Conv2D)             (None, 28, 28, 256)  590080      re_lu_31[0][0]                   \n",
            "__________________________________________________________________________________________________\n",
            "batch_normalization_220 (BatchN (None, 28, 28, 256)  1024        conv2d_222[0][0]                 \n",
            "__________________________________________________________________________________________________\n",
            "add_2 (Add)                     (None, 28, 28, 256)  0           batch_normalization_220[0][0]    \n",
            "                                                                 re_lu_30[0][0]                   \n",
            "__________________________________________________________________________________________________\n",
            "re_lu_32 (ReLU)                 (None, 28, 28, 256)  0           add_2[0][0]                      \n",
            "__________________________________________________________________________________________________\n",
            "conv2d_223 (Conv2D)             (None, 14, 14, 512)  1180160     re_lu_32[0][0]                   \n",
            "__________________________________________________________________________________________________\n",
            "batch_normalization_221 (BatchN (None, 14, 14, 512)  2048        conv2d_223[0][0]                 \n",
            "__________________________________________________________________________________________________\n",
            "re_lu_33 (ReLU)                 (None, 14, 14, 512)  0           batch_normalization_221[0][0]    \n",
            "__________________________________________________________________________________________________\n",
            "conv2d_224 (Conv2D)             (None, 14, 14, 512)  2359808     re_lu_33[0][0]                   \n",
            "__________________________________________________________________________________________________\n",
            "batch_normalization_222 (BatchN (None, 14, 14, 512)  2048        conv2d_224[0][0]                 \n",
            "__________________________________________________________________________________________________\n",
            "conv2d_225 (Conv2D)             (None, 14, 14, 512)  131584      re_lu_32[0][0]                   \n",
            "__________________________________________________________________________________________________\n",
            "add_3 (Add)                     (None, 14, 14, 512)  0           batch_normalization_222[0][0]    \n",
            "                                                                 conv2d_225[0][0]                 \n",
            "__________________________________________________________________________________________________\n",
            "re_lu_34 (ReLU)                 (None, 14, 14, 512)  0           add_3[0][0]                      \n",
            "__________________________________________________________________________________________________\n",
            "conv2d_226 (Conv2D)             (None, 14, 14, 512)  2359808     re_lu_34[0][0]                   \n",
            "__________________________________________________________________________________________________\n",
            "batch_normalization_223 (BatchN (None, 14, 14, 512)  2048        conv2d_226[0][0]                 \n",
            "__________________________________________________________________________________________________\n",
            "re_lu_35 (ReLU)                 (None, 14, 14, 512)  0           batch_normalization_223[0][0]    \n",
            "__________________________________________________________________________________________________\n",
            "conv2d_227 (Conv2D)             (None, 14, 14, 512)  2359808     re_lu_35[0][0]                   \n",
            "__________________________________________________________________________________________________\n",
            "batch_normalization_224 (BatchN (None, 14, 14, 512)  2048        conv2d_227[0][0]                 \n",
            "__________________________________________________________________________________________________\n",
            "add_4 (Add)                     (None, 14, 14, 512)  0           batch_normalization_224[0][0]    \n",
            "                                                                 re_lu_34[0][0]                   \n",
            "__________________________________________________________________________________________________\n",
            "re_lu_36 (ReLU)                 (None, 14, 14, 512)  0           add_4[0][0]                      \n",
            "__________________________________________________________________________________________________\n",
            "conv2d_228 (Conv2D)             (None, 14, 14, 512)  2359808     re_lu_36[0][0]                   \n",
            "__________________________________________________________________________________________________\n",
            "batch_normalization_225 (BatchN (None, 14, 14, 512)  2048        conv2d_228[0][0]                 \n",
            "__________________________________________________________________________________________________\n",
            "re_lu_37 (ReLU)                 (None, 14, 14, 512)  0           batch_normalization_225[0][0]    \n",
            "__________________________________________________________________________________________________\n",
            "conv2d_229 (Conv2D)             (None, 14, 14, 512)  2359808     re_lu_37[0][0]                   \n",
            "__________________________________________________________________________________________________\n",
            "batch_normalization_226 (BatchN (None, 14, 14, 512)  2048        conv2d_229[0][0]                 \n",
            "__________________________________________________________________________________________________\n",
            "add_5 (Add)                     (None, 14, 14, 512)  0           batch_normalization_226[0][0]    \n",
            "                                                                 re_lu_36[0][0]                   \n",
            "__________________________________________________________________________________________________\n",
            "re_lu_38 (ReLU)                 (None, 14, 14, 512)  0           add_5[0][0]                      \n",
            "__________________________________________________________________________________________________\n",
            "conv2d_230 (Conv2D)             (None, 14, 14, 512)  2359808     re_lu_38[0][0]                   \n",
            "__________________________________________________________________________________________________\n",
            "batch_normalization_227 (BatchN (None, 14, 14, 512)  2048        conv2d_230[0][0]                 \n",
            "__________________________________________________________________________________________________\n",
            "re_lu_39 (ReLU)                 (None, 14, 14, 512)  0           batch_normalization_227[0][0]    \n",
            "__________________________________________________________________________________________________\n",
            "conv2d_231 (Conv2D)             (None, 14, 14, 512)  2359808     re_lu_39[0][0]                   \n",
            "__________________________________________________________________________________________________\n",
            "batch_normalization_228 (BatchN (None, 14, 14, 512)  2048        conv2d_231[0][0]                 \n",
            "__________________________________________________________________________________________________\n",
            "add_6 (Add)                     (None, 14, 14, 512)  0           batch_normalization_228[0][0]    \n",
            "                                                                 re_lu_38[0][0]                   \n",
            "__________________________________________________________________________________________________\n",
            "re_lu_40 (ReLU)                 (None, 14, 14, 512)  0           add_6[0][0]                      \n",
            "__________________________________________________________________________________________________\n",
            "conv2d_232 (Conv2D)             (None, 7, 7, 1024)   4719616     re_lu_40[0][0]                   \n",
            "__________________________________________________________________________________________________\n",
            "batch_normalization_229 (BatchN (None, 7, 7, 1024)   4096        conv2d_232[0][0]                 \n",
            "__________________________________________________________________________________________________\n",
            "re_lu_41 (ReLU)                 (None, 7, 7, 1024)   0           batch_normalization_229[0][0]    \n",
            "__________________________________________________________________________________________________\n",
            "conv2d_233 (Conv2D)             (None, 7, 7, 1024)   9438208     re_lu_41[0][0]                   \n",
            "__________________________________________________________________________________________________\n",
            "batch_normalization_230 (BatchN (None, 7, 7, 1024)   4096        conv2d_233[0][0]                 \n",
            "__________________________________________________________________________________________________\n",
            "conv2d_234 (Conv2D)             (None, 7, 7, 1024)   525312      re_lu_40[0][0]                   \n",
            "__________________________________________________________________________________________________\n",
            "add_7 (Add)                     (None, 7, 7, 1024)   0           batch_normalization_230[0][0]    \n",
            "                                                                 conv2d_234[0][0]                 \n",
            "__________________________________________________________________________________________________\n",
            "re_lu_42 (ReLU)                 (None, 7, 7, 1024)   0           add_7[0][0]                      \n",
            "__________________________________________________________________________________________________\n",
            "conv2d_235 (Conv2D)             (None, 7, 7, 1024)   9438208     re_lu_42[0][0]                   \n",
            "__________________________________________________________________________________________________\n",
            "batch_normalization_231 (BatchN (None, 7, 7, 1024)   4096        conv2d_235[0][0]                 \n",
            "__________________________________________________________________________________________________\n",
            "re_lu_43 (ReLU)                 (None, 7, 7, 1024)   0           batch_normalization_231[0][0]    \n",
            "__________________________________________________________________________________________________\n",
            "conv2d_236 (Conv2D)             (None, 7, 7, 1024)   9438208     re_lu_43[0][0]                   \n",
            "__________________________________________________________________________________________________\n",
            "batch_normalization_232 (BatchN (None, 7, 7, 1024)   4096        conv2d_236[0][0]                 \n",
            "__________________________________________________________________________________________________\n",
            "add_8 (Add)                     (None, 7, 7, 1024)   0           batch_normalization_232[0][0]    \n",
            "                                                                 re_lu_42[0][0]                   \n",
            "__________________________________________________________________________________________________\n",
            "re_lu_44 (ReLU)                 (None, 7, 7, 1024)   0           add_8[0][0]                      \n",
            "__________________________________________________________________________________________________\n",
            "conv2d_237 (Conv2D)             (None, 7, 7, 1024)   9438208     re_lu_44[0][0]                   \n",
            "__________________________________________________________________________________________________\n",
            "batch_normalization_233 (BatchN (None, 7, 7, 1024)   4096        conv2d_237[0][0]                 \n",
            "__________________________________________________________________________________________________\n",
            "re_lu_45 (ReLU)                 (None, 7, 7, 1024)   0           batch_normalization_233[0][0]    \n",
            "__________________________________________________________________________________________________\n",
            "conv2d_238 (Conv2D)             (None, 7, 7, 1024)   9438208     re_lu_45[0][0]                   \n",
            "__________________________________________________________________________________________________\n",
            "batch_normalization_234 (BatchN (None, 7, 7, 1024)   4096        conv2d_238[0][0]                 \n",
            "__________________________________________________________________________________________________\n",
            "add_9 (Add)                     (None, 7, 7, 1024)   0           batch_normalization_234[0][0]    \n",
            "                                                                 re_lu_44[0][0]                   \n",
            "__________________________________________________________________________________________________\n",
            "re_lu_46 (ReLU)                 (None, 7, 7, 1024)   0           add_9[0][0]                      \n",
            "__________________________________________________________________________________________________\n",
            "conv2d_239 (Conv2D)             (None, 7, 7, 1024)   9438208     re_lu_46[0][0]                   \n",
            "__________________________________________________________________________________________________\n",
            "batch_normalization_235 (BatchN (None, 7, 7, 1024)   4096        conv2d_239[0][0]                 \n",
            "__________________________________________________________________________________________________\n",
            "re_lu_47 (ReLU)                 (None, 7, 7, 1024)   0           batch_normalization_235[0][0]    \n",
            "__________________________________________________________________________________________________\n",
            "conv2d_240 (Conv2D)             (None, 7, 7, 1024)   9438208     re_lu_47[0][0]                   \n",
            "__________________________________________________________________________________________________\n",
            "batch_normalization_236 (BatchN (None, 7, 7, 1024)   4096        conv2d_240[0][0]                 \n",
            "__________________________________________________________________________________________________\n",
            "add_10 (Add)                    (None, 7, 7, 1024)   0           batch_normalization_236[0][0]    \n",
            "                                                                 re_lu_46[0][0]                   \n",
            "__________________________________________________________________________________________________\n",
            "re_lu_48 (ReLU)                 (None, 7, 7, 1024)   0           add_10[0][0]                     \n",
            "__________________________________________________________________________________________________\n",
            "conv2d_241 (Conv2D)             (None, 7, 7, 1024)   9438208     re_lu_48[0][0]                   \n",
            "__________________________________________________________________________________________________\n",
            "batch_normalization_237 (BatchN (None, 7, 7, 1024)   4096        conv2d_241[0][0]                 \n",
            "__________________________________________________________________________________________________\n",
            "re_lu_49 (ReLU)                 (None, 7, 7, 1024)   0           batch_normalization_237[0][0]    \n",
            "__________________________________________________________________________________________________\n",
            "conv2d_242 (Conv2D)             (None, 7, 7, 1024)   9438208     re_lu_49[0][0]                   \n",
            "__________________________________________________________________________________________________\n",
            "batch_normalization_238 (BatchN (None, 7, 7, 1024)   4096        conv2d_242[0][0]                 \n",
            "__________________________________________________________________________________________________\n",
            "add_11 (Add)                    (None, 7, 7, 1024)   0           batch_normalization_238[0][0]    \n",
            "                                                                 re_lu_48[0][0]                   \n",
            "__________________________________________________________________________________________________\n",
            "re_lu_50 (ReLU)                 (None, 7, 7, 1024)   0           add_11[0][0]                     \n",
            "__________________________________________________________________________________________________\n",
            "conv2d_243 (Conv2D)             (None, 7, 7, 1024)   9438208     re_lu_50[0][0]                   \n",
            "__________________________________________________________________________________________________\n",
            "batch_normalization_239 (BatchN (None, 7, 7, 1024)   4096        conv2d_243[0][0]                 \n",
            "__________________________________________________________________________________________________\n",
            "re_lu_51 (ReLU)                 (None, 7, 7, 1024)   0           batch_normalization_239[0][0]    \n",
            "__________________________________________________________________________________________________\n",
            "conv2d_244 (Conv2D)             (None, 7, 7, 1024)   9438208     re_lu_51[0][0]                   \n",
            "__________________________________________________________________________________________________\n",
            "batch_normalization_240 (BatchN (None, 7, 7, 1024)   4096        conv2d_244[0][0]                 \n",
            "__________________________________________________________________________________________________\n",
            "add_12 (Add)                    (None, 7, 7, 1024)   0           batch_normalization_240[0][0]    \n",
            "                                                                 re_lu_50[0][0]                   \n",
            "__________________________________________________________________________________________________\n",
            "re_lu_52 (ReLU)                 (None, 7, 7, 1024)   0           add_12[0][0]                     \n",
            "__________________________________________________________________________________________________\n",
            "conv2d_245 (Conv2D)             (None, 4, 4, 2048)   18876416    re_lu_52[0][0]                   \n",
            "__________________________________________________________________________________________________\n",
            "batch_normalization_241 (BatchN (None, 4, 4, 2048)   8192        conv2d_245[0][0]                 \n",
            "__________________________________________________________________________________________________\n",
            "re_lu_53 (ReLU)                 (None, 4, 4, 2048)   0           batch_normalization_241[0][0]    \n",
            "__________________________________________________________________________________________________\n",
            "conv2d_246 (Conv2D)             (None, 4, 4, 2048)   37750784    re_lu_53[0][0]                   \n",
            "__________________________________________________________________________________________________\n",
            "batch_normalization_242 (BatchN (None, 4, 4, 2048)   8192        conv2d_246[0][0]                 \n",
            "__________________________________________________________________________________________________\n",
            "conv2d_247 (Conv2D)             (None, 4, 4, 2048)   2099200     re_lu_52[0][0]                   \n",
            "__________________________________________________________________________________________________\n",
            "add_13 (Add)                    (None, 4, 4, 2048)   0           batch_normalization_242[0][0]    \n",
            "                                                                 conv2d_247[0][0]                 \n",
            "__________________________________________________________________________________________________\n",
            "re_lu_54 (ReLU)                 (None, 4, 4, 2048)   0           add_13[0][0]                     \n",
            "__________________________________________________________________________________________________\n",
            "conv2d_248 (Conv2D)             (None, 4, 4, 2048)   37750784    re_lu_54[0][0]                   \n",
            "__________________________________________________________________________________________________\n",
            "batch_normalization_243 (BatchN (None, 4, 4, 2048)   8192        conv2d_248[0][0]                 \n",
            "__________________________________________________________________________________________________\n",
            "re_lu_55 (ReLU)                 (None, 4, 4, 2048)   0           batch_normalization_243[0][0]    \n",
            "__________________________________________________________________________________________________\n",
            "conv2d_249 (Conv2D)             (None, 4, 4, 2048)   37750784    re_lu_55[0][0]                   \n",
            "__________________________________________________________________________________________________\n",
            "batch_normalization_244 (BatchN (None, 4, 4, 2048)   8192        conv2d_249[0][0]                 \n",
            "__________________________________________________________________________________________________\n",
            "add_14 (Add)                    (None, 4, 4, 2048)   0           batch_normalization_244[0][0]    \n",
            "                                                                 re_lu_54[0][0]                   \n",
            "__________________________________________________________________________________________________\n",
            "re_lu_56 (ReLU)                 (None, 4, 4, 2048)   0           add_14[0][0]                     \n",
            "__________________________________________________________________________________________________\n",
            "conv2d_250 (Conv2D)             (None, 4, 4, 2048)   37750784    re_lu_56[0][0]                   \n",
            "__________________________________________________________________________________________________\n",
            "batch_normalization_245 (BatchN (None, 4, 4, 2048)   8192        conv2d_250[0][0]                 \n",
            "__________________________________________________________________________________________________\n",
            "re_lu_57 (ReLU)                 (None, 4, 4, 2048)   0           batch_normalization_245[0][0]    \n",
            "__________________________________________________________________________________________________\n",
            "conv2d_251 (Conv2D)             (None, 4, 4, 2048)   37750784    re_lu_57[0][0]                   \n",
            "__________________________________________________________________________________________________\n",
            "batch_normalization_246 (BatchN (None, 4, 4, 2048)   8192        conv2d_251[0][0]                 \n",
            "__________________________________________________________________________________________________\n",
            "add_15 (Add)                    (None, 4, 4, 2048)   0           batch_normalization_246[0][0]    \n",
            "                                                                 re_lu_56[0][0]                   \n",
            "__________________________________________________________________________________________________\n",
            "re_lu_58 (ReLU)                 (None, 4, 4, 2048)   0           add_15[0][0]                     \n",
            "__________________________________________________________________________________________________\n",
            "global_average_pooling2d (Globa (None, 2048)         0           re_lu_58[0][0]                   \n",
            "__________________________________________________________________________________________________\n",
            "dense_20 (Dense)                (None, 26)           53274       global_average_pooling2d[0][0]   \n",
            "==================================================================================================\n",
            "Total params: 340,343,322\n",
            "Trainable params: 340,282,394\n",
            "Non-trainable params: 60,928\n",
            "__________________________________________________________________________________________________\n"
          ],
          "name": "stdout"
        }
      ]
    },
    {
      "cell_type": "code",
      "metadata": {
        "colab": {
          "base_uri": "https://localhost:8080/",
          "height": 232
        },
        "id": "7BVMVDV6JYQ2",
        "outputId": "172fbdfc-882a-45e8-bdaf-f01ed6bc167b"
      },
      "source": [
        "# training_images = np.expand_dims(training_images, axis=3)\n",
        "# testing_images = np.expand_dims(testing_images, axis=3)\n",
        "\n",
        "train_datagen = ImageDataGenerator(\n",
        "    rescale=1. / 255,\n",
        "    rotation_range=40,\n",
        "    width_shift_range=0.2,\n",
        "    height_shift_range=0.2,\n",
        "    shear_range=0.2,\n",
        "    zoom_range=0.2,\n",
        "    horizontal_flip=True,\n",
        "    fill_mode='nearest')\n",
        "\n",
        "validation_datagen = ImageDataGenerator(\n",
        "    rescale=1. / 255)\n",
        "\n",
        "print(training_images.shape)\n",
        "print(testing_images.shape)\n",
        "\n",
        "from tensorflow.keras.optimizers import RMSprop\n",
        "\n",
        "# # Flatten the output layer to 1 dimension\n",
        "# x = layers.Flatten()(last_output)\n",
        "# # Add a fully connected layer with 1,024 hidden units and ReLU activation\n",
        "# x = layers.Dense(1024, activation='relu')(x)\n",
        "# # Add a dropout rate of 0.2\n",
        "# x = layers.Dropout(0.2)(x)                  \n",
        "# # Add a final sigmoid layer for classification\n",
        "# x = layers.Dense  (26, activation='softmax')(x)           \n",
        "\n",
        "# model = Model( pre_trained_model.input, x) \n",
        "\n",
        "model.compile(optimizer = tf.optimizers.Adam(),\n",
        "              loss = 'sparse_categorical_crossentropy',\n",
        "              metrics=['accuracy'])\n",
        "\n",
        "history = model.fit(train_datagen.flow(training_images, training_labels, batch_size=32),\n",
        "                              steps_per_epoch=len(training_images) / 32,\n",
        "                              epochs=15,\n",
        "                              validation_data=validation_datagen.flow(testing_images, testing_labels, batch_size=32),\n",
        "                              validation_steps=len(testing_images) / 32)\n",
        "\n",
        "model.evaluate(testing_images, testing_labels)"
      ],
      "execution_count": 1,
      "outputs": [
        {
          "output_type": "error",
          "ename": "NameError",
          "evalue": "ignored",
          "traceback": [
            "\u001b[0;31m---------------------------------------------------------------------------\u001b[0m",
            "\u001b[0;31mNameError\u001b[0m                                 Traceback (most recent call last)",
            "\u001b[0;32m<ipython-input-1-864051d1204f>\u001b[0m in \u001b[0;36m<module>\u001b[0;34m()\u001b[0m\n\u001b[1;32m      2\u001b[0m \u001b[0;31m# testing_images = np.expand_dims(testing_images, axis=3)\u001b[0m\u001b[0;34m\u001b[0m\u001b[0;34m\u001b[0m\u001b[0;34m\u001b[0m\u001b[0m\n\u001b[1;32m      3\u001b[0m \u001b[0;34m\u001b[0m\u001b[0m\n\u001b[0;32m----> 4\u001b[0;31m train_datagen = ImageDataGenerator(\n\u001b[0m\u001b[1;32m      5\u001b[0m     \u001b[0mrescale\u001b[0m\u001b[0;34m=\u001b[0m\u001b[0;36m1.\u001b[0m \u001b[0;34m/\u001b[0m \u001b[0;36m255\u001b[0m\u001b[0;34m,\u001b[0m\u001b[0;34m\u001b[0m\u001b[0;34m\u001b[0m\u001b[0m\n\u001b[1;32m      6\u001b[0m     \u001b[0mrotation_range\u001b[0m\u001b[0;34m=\u001b[0m\u001b[0;36m40\u001b[0m\u001b[0;34m,\u001b[0m\u001b[0;34m\u001b[0m\u001b[0;34m\u001b[0m\u001b[0m\n",
            "\u001b[0;31mNameError\u001b[0m: name 'ImageDataGenerator' is not defined"
          ]
        }
      ]
    },
    {
      "cell_type": "code",
      "metadata": {
        "id": "sW9Ltso_JhHT"
      },
      "source": [
        "import matplotlib.pyplot as plt\n",
        "acc = history.history['accuracy']\n",
        "val_acc = history.history['val_accuracy']\n",
        "loss = history.history['loss']\n",
        "val_loss = history.history['val_loss']\n",
        "\n",
        "epochs = range(len(acc))\n",
        "\n",
        "plt.plot(epochs, acc, 'r', label='Training accuracy')\n",
        "plt.plot(epochs, val_acc, 'b', label='Validation accuracy')\n",
        "plt.title('Training and validation accuracy')\n",
        "plt.legend()\n",
        "plt.figure()\n",
        "\n",
        "plt.plot(epochs, loss, 'r', label='Training Loss')\n",
        "plt.plot(epochs, val_loss, 'b', label='Validation Loss')\n",
        "plt.title('Training and validation loss')\n",
        "plt.legend()\n",
        "\n",
        "plt.show()"
      ],
      "execution_count": null,
      "outputs": []
    },
    {
      "cell_type": "code",
      "metadata": {
        "id": "qdsf4trXJk5D"
      },
      "source": [
        ""
      ],
      "execution_count": null,
      "outputs": []
    }
  ]
}